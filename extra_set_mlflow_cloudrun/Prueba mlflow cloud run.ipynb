{
 "cells": [
  {
   "cell_type": "markdown",
   "id": "86d224b8",
   "metadata": {},
   "source": [
    "### 1) Instalar mlflow 2.x"
   ]
  },
  {
   "cell_type": "code",
   "execution_count": 1,
   "id": "5fcf0327",
   "metadata": {},
   "outputs": [],
   "source": [
    "#!pip install mlflow==2.2.1"
   ]
  },
  {
   "cell_type": "code",
   "execution_count": null,
   "id": "108f6824",
   "metadata": {},
   "outputs": [],
   "source": []
  },
  {
   "cell_type": "code",
   "execution_count": null,
   "id": "6c003a61",
   "metadata": {},
   "outputs": [],
   "source": []
  },
  {
   "cell_type": "markdown",
   "id": "c74f1ab9",
   "metadata": {},
   "source": [
    "### 2) Iniciar servidor de mlflow (solo necesario para trabajar de forma local)\n",
    "Debido a que mientras el servidor esté corriendo la línea de código va a seguir corriendo\n",
    "\n",
    "Instrucciones:\n",
    "- Abrir una consola. Por ejemplo Anaconda Prompt\n",
    "\n",
    "- Pararse en el root del repo\n",
    "\n",
    "- Correr:\n",
    "\n",
    "    \n",
    "    `mlflow server --default-artifact-root <ruta para almacenar artefactos>`\n",
    "    \n",
    "\n",
    "- Correr v2: Por defecto, si no se indica una ruta se crea la carpeta \"mlruns\"\n",
    "    `mlflow server`\n",
    "\n",
    "\n",
    "- Este comando iniciará el servidor de MLflow en tu máquina local y estará listo para recibir experimentos y modelos. Además, puedes acceder a la interfaz de usuario de MLflow ingresando en tu navegador la dirección http://localhost:5000."
   ]
  },
  {
   "cell_type": "code",
   "execution_count": 2,
   "id": "acafab07",
   "metadata": {},
   "outputs": [],
   "source": [
    "#######  mlflow server --default-artifact-root <ruta para almacenar artefactos>\n",
    "\n",
    "\n",
    "#######  mlflow server"
   ]
  },
  {
   "cell_type": "code",
   "execution_count": null,
   "id": "b689b191",
   "metadata": {},
   "outputs": [],
   "source": []
  },
  {
   "cell_type": "markdown",
   "id": "b37552c9",
   "metadata": {},
   "source": [
    "### 3) Import mlflow"
   ]
  },
  {
   "cell_type": "code",
   "execution_count": 4,
   "id": "b0b2122d",
   "metadata": {},
   "outputs": [],
   "source": [
    "import mlflow\n",
    "\n",
    "\n",
    "import warnings\n",
    "warnings.filterwarnings(\"ignore\")\n",
    "\n",
    "import os\n",
    "import pandas as pd\n",
    "import numpy as np\n",
    "import pickle\n",
    "\n",
    "from sklearn.model_selection import train_test_split\n",
    "from sklearn.linear_model import LinearRegression\n",
    "from sklearn.ensemble import RandomForestRegressor\n",
    "from sklearn.metrics import mean_squared_error\n",
    "from sklearn.metrics import r2_score\n",
    "import xgboost as xg"
   ]
  },
  {
   "cell_type": "code",
   "execution_count": null,
   "id": "eb65f0d3",
   "metadata": {},
   "outputs": [],
   "source": []
  },
  {
   "cell_type": "markdown",
   "id": "5d161930",
   "metadata": {},
   "source": [
    "### 4) Conectarse a mlflow\n",
    "Se puede utilizar mlflow:\n",
    "\n",
    "- De forma local\n",
    "\n",
    "- mlflow en un cluster kubernetes + cloud sql\n",
    "\n",
    "- mlflow en GCS (UI en cloud run). En este ejemplo se va a utilizar este método"
   ]
  },
  {
   "cell_type": "code",
   "execution_count": 5,
   "id": "5352502f",
   "metadata": {},
   "outputs": [],
   "source": [
    "#conectar a mlflow\n",
    "path_mlflow_cloudrun = 'url-mlflow-cloud-run' #------ complete with the mlflow url\n",
    "\n",
    "mlflow.set_tracking_uri(path_mlflow_cloudrun)"
   ]
  },
  {
   "cell_type": "code",
   "execution_count": null,
   "id": "7728fd40",
   "metadata": {},
   "outputs": [],
   "source": []
  },
  {
   "cell_type": "markdown",
   "id": "04a3ac01",
   "metadata": {},
   "source": [
    "### 5) Setear experimento.\n",
    "Si el experimento no existe, se crea automáticamente"
   ]
  },
  {
   "cell_type": "code",
   "execution_count": 6,
   "id": "009962fa",
   "metadata": {},
   "outputs": [
    {
     "data": {
      "text/plain": [
       "<Experiment: artifact_location='gs://mlflow_cloudrun_tracking_uri/861524145491099593', creation_time=1678333077766, experiment_id='861524145491099593', last_update_time=1678333077766, lifecycle_stage='active', name='test_mlflow_cloudrun', tags={}>"
      ]
     },
     "execution_count": 6,
     "metadata": {},
     "output_type": "execute_result"
    }
   ],
   "source": [
    "experiment_name = 'test_mlflow_cloudrun'\n",
    "mlflow.set_experiment(experiment_name)"
   ]
  },
  {
   "cell_type": "code",
   "execution_count": null,
   "id": "e3a32e18",
   "metadata": {},
   "outputs": [],
   "source": [
    "mlflow.get_experiment_by_name(experiment_name)"
   ]
  },
  {
   "cell_type": "code",
   "execution_count": null,
   "id": "484ce318",
   "metadata": {},
   "outputs": [],
   "source": []
  },
  {
   "cell_type": "code",
   "execution_count": null,
   "id": "797e7e2c",
   "metadata": {},
   "outputs": [],
   "source": []
  },
  {
   "cell_type": "markdown",
   "id": "002a73ed",
   "metadata": {},
   "source": [
    "### 6) Generación de parámetros, variables, artifacts a guardar\n",
    "- Todos estos artefactos son generados durante el entrenamiento del modelo\n",
    "\n",
    "- En este ejemplo se crean algunos para indicarlos como ejemplos"
   ]
  },
  {
   "cell_type": "markdown",
   "id": "f4be0834",
   "metadata": {},
   "source": [
    "### 6.0 Entrenar modelo (generar datos y entrenar modelo)"
   ]
  },
  {
   "cell_type": "code",
   "execution_count": 8,
   "id": "1b5af491",
   "metadata": {},
   "outputs": [
    {
     "name": "stdout",
     "output_type": "stream",
     "text": [
      "TRAIN\n",
      "X_train (800, 5)\n",
      "y_train (800,)\n",
      "\n",
      "TEST\n",
      "X_test (200, 5)\n",
      "y_test (200,)\n"
     ]
    }
   ],
   "source": [
    "#### generar datos ###\n",
    "\n",
    "# parametros\n",
    "len_data = 1000\n",
    "number_columns = 6\n",
    "data = []\n",
    "list_variables = [\"240FY050.RO02\" , \"SGM-PI9514\", \"SSTRIPPING015\", \"SGM-PI9516\" , \"SGM-PI9512\", \"target\"]\n",
    "\n",
    "\n",
    "# seed - replicar resultados\n",
    "np.random.seed(42)\n",
    "\n",
    "\n",
    "# generar data aleatoria\n",
    "for column in range(number_columns):\n",
    "    random_choise = np.random.choice(10) + 1 # amplitud\n",
    "    data_column = np.random.rand(len_data)\n",
    "    data_column = random_choise * data_column\n",
    "    data.append(data_column)\n",
    "    \n",
    "# a dataframe\n",
    "data = pd.DataFrame(data).T\n",
    "data.columns = list_variables\n",
    "\n",
    "# serparar train y test\n",
    "features = list(set(list_variables) - set(['target']))\n",
    "X_train, X_test, y_train, y_test = train_test_split(data[features], data['target'], test_size = 0.2, random_state=42)\n",
    "\n",
    "print('TRAIN')\n",
    "print('X_train', X_train.shape)\n",
    "print('y_train', y_train.shape)\n",
    "\n",
    "print('\\nTEST')\n",
    "print('X_test', X_test.shape)\n",
    "print('y_test', y_test.shape)"
   ]
  },
  {
   "cell_type": "code",
   "execution_count": 9,
   "id": "29dce24c",
   "metadata": {},
   "outputs": [],
   "source": [
    "#### entrenar modelo ####\n",
    "\n",
    "model = LinearRegression()\n",
    "#model = RandomForestRegressor(random_state = 42)\n",
    "#model = xg.XGBRegressor(objective ='reg:linear', n_estimators = 10, seed = 42)\n",
    "\n",
    "model.fit(X_train, y_train)\n",
    "\n",
    "\n",
    "\n",
    "#### predicción y evaluación ####\n",
    "\n",
    "### RMSE\n",
    "rmse_train = mean_squared_error(y_train, \n",
    "                                model.predict(X_train),\n",
    "                                squared = False)\n",
    "\n",
    "rmse_test = mean_squared_error(y_test, \n",
    "                               model.predict(X_test),\n",
    "                               squared = False)\n",
    "\n",
    "\n",
    "### R2\n",
    "r2_score\n",
    "\n",
    "\n",
    "r2_train = r2_score(y_train,\n",
    "                   model.predict(X_train))\n",
    "\n",
    "r2_test = r2_score(y_test,\n",
    "                   model.predict(X_test))"
   ]
  },
  {
   "cell_type": "code",
   "execution_count": null,
   "id": "5919c1b4",
   "metadata": {},
   "outputs": [],
   "source": []
  },
  {
   "cell_type": "markdown",
   "id": "76950993",
   "metadata": {},
   "source": [
    "### 6.1) Generar parámetros"
   ]
  },
  {
   "cell_type": "code",
   "execution_count": 10,
   "id": "3c470d28",
   "metadata": {},
   "outputs": [
    {
     "name": "stdout",
     "output_type": "stream",
     "text": [
      "listado de tags ['240FY050.RO02', 'SGM-PI9514', 'SSTRIPPING015', 'SGM-PI9516', 'SGM-PI9512', 'target']\n"
     ]
    }
   ],
   "source": [
    "# print de listado de tags\n",
    "print('listado de tags', list_variables)"
   ]
  },
  {
   "cell_type": "code",
   "execution_count": 11,
   "id": "7d1906ef",
   "metadata": {},
   "outputs": [
    {
     "data": {
      "text/plain": [
       "'lr'"
      ]
     },
     "execution_count": 11,
     "metadata": {},
     "output_type": "execute_result"
    }
   ],
   "source": [
    "# tipo modelo\n",
    "model_type = \"lr\"\n",
    "model_type"
   ]
  },
  {
   "cell_type": "code",
   "execution_count": 12,
   "id": "68822c71",
   "metadata": {},
   "outputs": [],
   "source": [
    "# fechas de los datos\n",
    "start_train = \"2020-01-01\"\n",
    "end_train = \"2022-12-01\""
   ]
  },
  {
   "cell_type": "markdown",
   "id": "37a54a85",
   "metadata": {},
   "source": [
    "### 6.2) Generar métricas"
   ]
  },
  {
   "cell_type": "code",
   "execution_count": 13,
   "id": "337e94d0",
   "metadata": {},
   "outputs": [
    {
     "name": "stdout",
     "output_type": "stream",
     "text": [
      "rmse_train:  1.4387312960740368\n",
      "rmse_test:  1.4632467048976407\n",
      "r2_train:  0.007202043897398536\n",
      "r2_test:  -0.011984948488191094\n"
     ]
    }
   ],
   "source": [
    "# print de las métricas\n",
    "print('rmse_train: ', rmse_train)\n",
    "print('rmse_test: ', rmse_test)\n",
    "print('r2_train: ', r2_train)\n",
    "print('r2_test: ', r2_test)"
   ]
  },
  {
   "cell_type": "markdown",
   "id": "457c3a58",
   "metadata": {},
   "source": [
    "### 6.3) Generar artefactos\n",
    "- Modelos\n",
    "- Data\n",
    "- Gráficos\n",
    "- ETC"
   ]
  },
  {
   "cell_type": "code",
   "execution_count": 14,
   "id": "92569df9",
   "metadata": {},
   "outputs": [],
   "source": [
    "# generar artefacto pickle con el modelo y borrar del local\n",
    "model_name = 'model.pkl'\n",
    "with open(model_name, 'wb') as file:\n",
    "    pickle.dump(model, file)"
   ]
  },
  {
   "cell_type": "code",
   "execution_count": 15,
   "id": "05a83676",
   "metadata": {},
   "outputs": [],
   "source": [
    "# generar artefacto data csv y borrar del local\n",
    "data_name = 'data.csv'\n",
    "data.to_csv(data_name)"
   ]
  },
  {
   "cell_type": "code",
   "execution_count": null,
   "id": "fb87aaa4",
   "metadata": {},
   "outputs": [],
   "source": []
  },
  {
   "cell_type": "code",
   "execution_count": null,
   "id": "df063f66",
   "metadata": {},
   "outputs": [],
   "source": []
  },
  {
   "cell_type": "markdown",
   "id": "6b53b19b",
   "metadata": {},
   "source": [
    "### 7. Guardar resultados del RUN\n",
    "- Se tiene un \"EXPERIMENT\" el cual es la unidad \"grande\" que está conformada por unidades más pequeñas\n",
    "\n",
    "\n",
    "- Cuando uno corre el entrenamiento de un modelo (que podría ser llamado un experimento), en mlflow recibe el nombre de \"RUN\"\n",
    "\n",
    "\n",
    "- Por lo tanto un \"EXPERIMENT\" está conformado múltiples \"RUNS\""
   ]
  },
  {
   "cell_type": "code",
   "execution_count": 16,
   "id": "d976f731",
   "metadata": {},
   "outputs": [],
   "source": [
    "#iniciar run\n",
    "run_name = model_type\n",
    "mlflow.start_run(run_name = run_name)\n",
    "run = mlflow.active_run()"
   ]
  },
  {
   "cell_type": "code",
   "execution_count": 17,
   "id": "8c265dc7",
   "metadata": {},
   "outputs": [
    {
     "data": {
      "text/plain": [
       "<ActiveRun: >"
      ]
     },
     "execution_count": 17,
     "metadata": {},
     "output_type": "execute_result"
    }
   ],
   "source": [
    "run"
   ]
  },
  {
   "cell_type": "code",
   "execution_count": 18,
   "id": "01ea50f8",
   "metadata": {},
   "outputs": [
    {
     "data": {
      "text/plain": [
       "'2022-12-01'"
      ]
     },
     "execution_count": 18,
     "metadata": {},
     "output_type": "execute_result"
    }
   ],
   "source": [
    "# guardar parámetros. (\"Nombre Parámetro\", \"Valor\")\n",
    "mlflow.log_param(\"Tags\", str(list_variables))\n",
    "mlflow.log_param(\"Modelo\", model_type)\n",
    "mlflow.log_param(\"Inicio Train\", start_train)\n",
    "mlflow.log_param(\"Fin Train\", end_train)"
   ]
  },
  {
   "cell_type": "code",
   "execution_count": 19,
   "id": "aa197671",
   "metadata": {},
   "outputs": [],
   "source": [
    "# guardar variables (\"Nombre\", Valor)\n",
    "mlflow.log_metric(\"RMSE_train\", rmse_train)\n",
    "mlflow.log_metric(\"RMSE_test\", rmse_test)\n",
    "mlflow.log_metric(\"R2_train\", r2_train)\n",
    "mlflow.log_metric(\"R2_test\", r2_test)"
   ]
  },
  {
   "cell_type": "code",
   "execution_count": 20,
   "id": "ae0db35f",
   "metadata": {},
   "outputs": [],
   "source": [
    "# guardar artefactos. Forma simple es que estén guardados en el local y luego subirse a mlflow\n",
    "\n",
    "# guardar modelo\n",
    "mlflow.log_artifact(model_name)\n",
    "os.remove(model_name)\n",
    "\n",
    "# guardar data\n",
    "mlflow.log_artifact(data_name)\n",
    "os.remove(data_name)"
   ]
  },
  {
   "cell_type": "code",
   "execution_count": null,
   "id": "a94e3353",
   "metadata": {},
   "outputs": [],
   "source": []
  },
  {
   "cell_type": "markdown",
   "id": "1f95855f",
   "metadata": {},
   "source": [
    "### 8. Terminar RUN"
   ]
  },
  {
   "cell_type": "code",
   "execution_count": 21,
   "id": "5e447d55",
   "metadata": {},
   "outputs": [],
   "source": [
    "# terminar run\n",
    "mlflow.end_run()"
   ]
  },
  {
   "cell_type": "code",
   "execution_count": null,
   "id": "449be552",
   "metadata": {},
   "outputs": [],
   "source": []
  },
  {
   "cell_type": "markdown",
   "id": "61bb42ba",
   "metadata": {},
   "source": [
    "### 9. EXTRAS\n",
    "Mlflow permite:\n",
    "\n",
    "- Guardar el artefacto del modelo en una carpeta \"especial\" para luego hacer el deploy de este utilizando servicios de mlflow (mlflow corriendo en un cluster en la nube)\n",
    "\n",
    "- De todos los RUN elegir el que tiene mejor métrica\n",
    "\n",
    "- El modelo eleguido hacer el deploy\n",
    "\n",
    "\n",
    "Actualmente se utiliza otras formas de hacer el deploy de los modelos y mlflow solo se utilizará para tener registro de los diferentes experimentos realizados"
   ]
  },
  {
   "cell_type": "code",
   "execution_count": null,
   "id": "11ac232c",
   "metadata": {},
   "outputs": [],
   "source": []
  }
 ],
 "metadata": {
  "kernelspec": {
   "display_name": "Python 3 (ipykernel)",
   "language": "python",
   "name": "python3"
  },
  "language_info": {
   "codemirror_mode": {
    "name": "ipython",
    "version": 3
   },
   "file_extension": ".py",
   "mimetype": "text/x-python",
   "name": "python",
   "nbconvert_exporter": "python",
   "pygments_lexer": "ipython3",
   "version": "3.10.12"
  }
 },
 "nbformat": 4,
 "nbformat_minor": 5
}
