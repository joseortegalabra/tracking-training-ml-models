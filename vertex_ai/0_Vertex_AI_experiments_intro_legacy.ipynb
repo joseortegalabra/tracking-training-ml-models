{
 "cells": [
  {
   "cell_type": "markdown",
   "id": "5890081a-dfc9-4804-93f6-361c262617a2",
   "metadata": {},
   "source": [
    "# Vertex AI\n",
    "Use the service \"Experiments\" directly in vertex to tracking the results of the models trained\n",
    "\n",
    "Examples codes to understand the tool"
   ]
  },
  {
   "cell_type": "markdown",
   "id": "e2a1a032-6873-4db3-9cd4-b741f8281c08",
   "metadata": {},
   "source": [
    "### 0. Packages"
   ]
  },
  {
   "cell_type": "code",
   "execution_count": 1,
   "id": "852ccb32-65d0-4c1d-83fc-fe321575e363",
   "metadata": {},
   "outputs": [],
   "source": [
    "# ml packages\n",
    "import numpy as np\n",
    "import matplotlib.pyplot as plt\n",
    "import pandas as pd\n",
    "from sklearn import datasets\n",
    "import seaborn as sns\n",
    "import pickle\n",
    "import os\n",
    "\n",
    "from sklearn.model_selection import train_test_split\n",
    "from sklearn.linear_model import LinearRegression\n",
    "from sklearn.ensemble import RandomForestRegressor\n",
    "from sklearn.metrics import mean_squared_error\n",
    "from sklearn.metrics import r2_score\n",
    "\n",
    "# vertex gcp\n",
    "import google.cloud.aiplatform as aiplatform"
   ]
  },
  {
   "cell_type": "code",
   "execution_count": null,
   "id": "251e01cc-44fb-483d-9d03-f0c1fe732829",
   "metadata": {},
   "outputs": [],
   "source": []
  },
  {
   "cell_type": "markdown",
   "id": "576ed9b2-2add-4fea-b145-0072916137c6",
   "metadata": {},
   "source": [
    "### 1. Generate parameters, variables and artifacts to save (dummy examples)\n",
    "\n",
    "Create very simple example to focus in show how to use the tool"
   ]
  },
  {
   "cell_type": "markdown",
   "id": "dd689604-8fb1-4db6-93e2-d4d497859867",
   "metadata": {},
   "source": [
    "#### 1.1 Generate Data"
   ]
  },
  {
   "cell_type": "code",
   "execution_count": 2,
   "id": "8a1ceb5d-ecd1-4a52-b6c2-5fdf830de7ed",
   "metadata": {},
   "outputs": [
    {
     "name": "stdout",
     "output_type": "stream",
     "text": [
      "TRAIN\n",
      "X_train (800, 5)\n",
      "y_train (800,)\n",
      "\n",
      "TEST\n",
      "X_test (200, 5)\n",
      "y_test (200,)\n"
     ]
    }
   ],
   "source": [
    "#### generate data ###\n",
    "\n",
    "# parameters data\n",
    "len_data = 1000\n",
    "number_columns = 6\n",
    "data = []\n",
    "list_variables = [\"240FY050.RO02\" , \"SGM-PI9514\", \"SSTRIPPING015\", \"SGM-PI9516\" , \"SGM-PI9512\", \"target\"]\n",
    "\n",
    "\n",
    "# seed\n",
    "np.random.seed(42)\n",
    "\n",
    "# generate random data\n",
    "for column in range(number_columns):\n",
    "    random_choise = np.random.choice(10) + 1 # amplitud\n",
    "    data_column = np.random.rand(len_data)\n",
    "    data_column = random_choise * data_column\n",
    "    data.append(data_column)\n",
    "    \n",
    "# to dataframe\n",
    "data = pd.DataFrame(data).T\n",
    "data.columns = list_variables\n",
    "\n",
    "# split train y test\n",
    "features = list(set(list_variables) - set(['target']))\n",
    "X_train, X_test, y_train, y_test = train_test_split(data[features], data['target'], test_size = 0.2, random_state=42)\n",
    "\n",
    "print('TRAIN')\n",
    "print('X_train', X_train.shape)\n",
    "print('y_train', y_train.shape)\n",
    "\n",
    "print('\\nTEST')\n",
    "print('X_test', X_test.shape)\n",
    "print('y_test', y_test.shape)"
   ]
  },
  {
   "cell_type": "markdown",
   "id": "880a0400-1e28-4780-83d5-5053c0663f34",
   "metadata": {},
   "source": [
    "#### 1.2 Train model"
   ]
  },
  {
   "cell_type": "code",
   "execution_count": 3,
   "id": "4e075714-35ad-44a7-90fc-f5c93e3745ee",
   "metadata": {},
   "outputs": [],
   "source": [
    "#### train model ####\n",
    "model = LinearRegression()\n",
    "#model = RandomForestRegressor(random_state = 42)\n",
    "model.fit(X_train, y_train)\n",
    "\n",
    "\n",
    "\n",
    "#### predicción y evaluación ####\n",
    "\n",
    "### RMSE\n",
    "rmse_train = mean_squared_error(y_train, \n",
    "                                model.predict(X_train),\n",
    "                                squared = False)\n",
    "\n",
    "rmse_test = mean_squared_error(y_test, \n",
    "                               model.predict(X_test),\n",
    "                               squared = False)\n",
    "\n",
    "\n",
    "### R2\n",
    "r2_score\n",
    "\n",
    "\n",
    "r2_train = r2_score(y_train,\n",
    "                   model.predict(X_train))\n",
    "\n",
    "r2_test = r2_score(y_test,\n",
    "                   model.predict(X_test))"
   ]
  },
  {
   "cell_type": "markdown",
   "id": "c6fedacd-1041-40ed-9449-f0dc023c350c",
   "metadata": {},
   "source": [
    "#### 1.3 Generate outputs to save\n",
    "In this example, the outputs to save are genated in the final step, but it can be genrated while the code is running and use its python variables generated"
   ]
  },
  {
   "cell_type": "markdown",
   "id": "c6386b42-772e-4873-a0e4-67299a49f5b1",
   "metadata": {},
   "source": [
    "#### Parameters"
   ]
  },
  {
   "cell_type": "code",
   "execution_count": 4,
   "id": "af80b7a1-1b31-44fc-a9e8-e64271e8639b",
   "metadata": {},
   "outputs": [
    {
     "name": "stdout",
     "output_type": "stream",
     "text": [
      "list tags:\n",
      " ['240FY050.RO02', 'SGM-PI9514', 'SSTRIPPING015', 'SGM-PI9516', 'SGM-PI9512', 'target']\n"
     ]
    }
   ],
   "source": [
    "# print previous parameter defined - list tags\n",
    "print('list tags:\\n', list_variables)"
   ]
  },
  {
   "cell_type": "code",
   "execution_count": 5,
   "id": "fd2297ef-2a02-4423-81dc-e201cfadecaa",
   "metadata": {},
   "outputs": [
    {
     "data": {
      "text/plain": [
       "'RF'"
      ]
     },
     "execution_count": 5,
     "metadata": {},
     "output_type": "execute_result"
    }
   ],
   "source": [
    "# type of model trained - define a string with the name\n",
    "model_type = \"RF\"\n",
    "model_type"
   ]
  },
  {
   "cell_type": "code",
   "execution_count": 6,
   "id": "291e8679-36b5-4c50-880b-91d966de390c",
   "metadata": {},
   "outputs": [],
   "source": [
    "# dates of training\n",
    "start_train = \"2020-01-01\"\n",
    "end_train = \"2022-12-01\""
   ]
  },
  {
   "cell_type": "code",
   "execution_count": null,
   "id": "b78fdf06-a847-460a-b8bf-dbaaa854e768",
   "metadata": {},
   "outputs": [],
   "source": []
  },
  {
   "cell_type": "markdown",
   "id": "dba13205-33ad-4f03-9ac0-e107e8a0c14b",
   "metadata": {},
   "source": [
    "#### Metrics"
   ]
  },
  {
   "cell_type": "code",
   "execution_count": 7,
   "id": "ee3708f7-0853-4ba4-9834-2c1880740f4f",
   "metadata": {},
   "outputs": [
    {
     "name": "stdout",
     "output_type": "stream",
     "text": [
      "rmse_train:  1.4387312960740368\n",
      "rmse_test:  1.4632467048976407\n",
      "r2_train:  0.007202043897398536\n",
      "r2_test:  -0.011984948488191094\n"
     ]
    }
   ],
   "source": [
    "# print metrics\n",
    "print('rmse_train: ', rmse_train)\n",
    "print('rmse_test: ', rmse_test)\n",
    "print('r2_train: ', r2_train)\n",
    "print('r2_test: ', r2_test)"
   ]
  },
  {
   "cell_type": "code",
   "execution_count": null,
   "id": "7fb16dff-d62c-4739-95cd-04c92ad5e93b",
   "metadata": {},
   "outputs": [],
   "source": []
  },
  {
   "cell_type": "markdown",
   "id": "6c9cf954-1a6c-4b76-80d9-914c74433410",
   "metadata": {},
   "source": [
    "#### Artifacts"
   ]
  },
  {
   "cell_type": "code",
   "execution_count": 8,
   "id": "741316b0-1c90-4fc0-9032-281f2b928eed",
   "metadata": {},
   "outputs": [],
   "source": [
    "# generate a pickle with the model\n",
    "model_name = 'model.pkl'\n",
    "with open(model_name, 'wb') as file:\n",
    "    pickle.dump(model, file)"
   ]
  },
  {
   "cell_type": "code",
   "execution_count": 9,
   "id": "ff7c80ad-edae-4db8-b965-56e8dbbdbff8",
   "metadata": {},
   "outputs": [],
   "source": [
    "# generar artefacto data csv y borrar del local\n",
    "data_name = 'data.csv'\n",
    "data.to_csv(data_name)"
   ]
  },
  {
   "cell_type": "code",
   "execution_count": null,
   "id": "52c7773f-8a37-49a9-a5b6-ea2ed22212d4",
   "metadata": {},
   "outputs": [],
   "source": []
  },
  {
   "cell_type": "code",
   "execution_count": null,
   "id": "829d6406-8c0d-442b-8a64-c0c02a4f2476",
   "metadata": {},
   "outputs": [],
   "source": []
  },
  {
   "cell_type": "markdown",
   "id": "0f2fffd9-975d-45f2-b1c5-59105c3309be",
   "metadata": {},
   "source": [
    "### 2. Registry Experiment Vertex AI\n",
    "- Documentation codes Vertex: https://cloud.google.com/python/docs/reference/aiplatform/latest/google.cloud.aiplatform.Experiment\n",
    "\n",
    "Notebooks with examples:\n",
    "- Oficial repo gcp: https://github.com/GoogleCloudPlatform/vertex-ai-samples/blob/main/notebooks/community/experiments/vertex_ai_model_experimentation.ipynb\n",
    "- medium post: https://medium.com/google-cloud/machine-learning-experiment-tracking-with-vertex-ai-8406f8d44376\n",
    "\n",
    "The objetive is use only the experiment resources and NOT create a tensorboard instance for the high costs that has"
   ]
  },
  {
   "cell_type": "code",
   "execution_count": 10,
   "id": "e01564f3-9c09-4139-92cd-7c5e68a865f8",
   "metadata": {},
   "outputs": [
    {
     "name": "stdout",
     "output_type": "stream",
     "text": [
      "Name: google-cloud-aiplatform\n",
      "Version: 1.35.0\n",
      "Summary: Vertex AI API client library\n",
      "Home-page: https://github.com/googleapis/python-aiplatform\n",
      "Author: Google LLC\n",
      "Author-email: googleapis-packages@google.com\n",
      "License: Apache 2.0\n",
      "Location: d:\\anaconda\\envs\\data-science-python-3-10\\lib\\site-packages\n",
      "Requires: google-api-core, google-cloud-bigquery, google-cloud-resource-manager, google-cloud-storage, packaging, proto-plus, protobuf, shapely\n",
      "Required-by: \n"
     ]
    }
   ],
   "source": [
    "# show version of vertex used. The version of vertex is constantly updated\n",
    "!pip show google-cloud-aiplatform"
   ]
  },
  {
   "cell_type": "code",
   "execution_count": 11,
   "id": "700dc68f-7de2-4f75-a75a-74275eccf5c1",
   "metadata": {},
   "outputs": [],
   "source": [
    "# PARAMETERS GCP\n",
    "project_gcp = 'cmpc-innovation-cd4ml-test'\n",
    "location_gcp = 'us-east1'"
   ]
  },
  {
   "cell_type": "code",
   "execution_count": 12,
   "id": "fda40df0-f0eb-4352-877e-50d0940c7ed1",
   "metadata": {},
   "outputs": [],
   "source": [
    "# PARAMETERS CREATE AN EXPERIMENT IN VERTEX AI. # obs: In names only are accepted '[a-z0-9][a-z0-9-]{0,127}'\n",
    "EXPERIMENT_NAME = 'test-experiment-vertex'\n",
    "EXPERIMENT_DESCRIPTION = 'Introduction to save experiment in vertex'"
   ]
  },
  {
   "cell_type": "markdown",
   "id": "2d715db1-3da7-4a72-8835-e59576c2d178",
   "metadata": {},
   "source": [
    "#### 2.1 Create experiment\n",
    "Create an experiment and inside of this, different runs are created to save the results of diferents models trained"
   ]
  },
  {
   "cell_type": "code",
   "execution_count": 13,
   "id": "58b742fb-a173-4517-be6b-c192e6cb5228",
   "metadata": {},
   "outputs": [],
   "source": [
    "# initialize vertex\n",
    "aiplatform.init(\n",
    "       project = project_gcp,\n",
    "       location = location_gcp\n",
    "    )\n",
    "\n",
    "# you can create inmediatly and experiment and a tensorboard instance.\n",
    "# aiplatform.init(\n",
    "#        project = project_gcp,\n",
    "#        location = location_gcp,\n",
    "#        experiment = experiment_name,\n",
    "#     )"
   ]
  },
  {
   "cell_type": "code",
   "execution_count": 14,
   "id": "a4a6885e-f601-45c5-86de-b1853aafebc6",
   "metadata": {},
   "outputs": [
    {
     "data": {
      "text/plain": [
       "<google.cloud.aiplatform.metadata.experiment_resources.Experiment at 0x11ae6cccc10>"
      ]
     },
     "execution_count": 14,
     "metadata": {},
     "output_type": "execute_result"
    }
   ],
   "source": [
    "# Create a new experiment in Vertex AI Experiments. The experiment can be created only once\n",
    "my_experiment = aiplatform.Experiment.create(EXPERIMENT_NAME, \n",
    "                                             description = EXPERIMENT_DESCRIPTION)\n",
    "my_experiment"
   ]
  },
  {
   "cell_type": "markdown",
   "id": "5ff68bb6-72aa-4b34-a659-84f4310339c4",
   "metadata": {},
   "source": [
    "#### 2.2 Create Run\n",
    "create a run were save the results of the model trained"
   ]
  },
  {
   "cell_type": "code",
   "execution_count": 15,
   "id": "eebaa91d-962e-4435-b19f-b002cac116e7",
   "metadata": {},
   "outputs": [],
   "source": [
    "# PARAMETERS CREATE A RUN IN A VERTEX AI \"EXPERIMENT\"\n",
    "RUN_NAME = \"run-10\""
   ]
  },
  {
   "cell_type": "code",
   "execution_count": 16,
   "id": "f00b6d90-86b8-42f4-b278-5de330681d9a",
   "metadata": {},
   "outputs": [
    {
     "name": "stdout",
     "output_type": "stream",
     "text": [
      "Associating projects/724348686027/locations/us-east1/metadataStores/default/contexts/test-experiment-vertex-run-10 to Experiment: test-experiment-vertex\n"
     ]
    }
   ],
   "source": [
    "# create a run\n",
    "my_run = aiplatform.ExperimentRun.create(RUN_NAME, \n",
    "                                         experiment = EXPERIMENT_NAME)"
   ]
  },
  {
   "cell_type": "markdown",
   "id": "09f8818f-7529-4d0c-ac4a-4850f211585f",
   "metadata": {},
   "source": [
    "#### 2.3 Save parameters"
   ]
  },
  {
   "cell_type": "code",
   "execution_count": 17,
   "id": "6153817d-92ab-4b50-9f5c-7b59713db3dc",
   "metadata": {},
   "outputs": [],
   "source": [
    "# define params to save. In a dicctionary\n",
    "params_to_save = {\n",
    "    'learning_rate': 0.1,\n",
    "    'dropout_rate': 0.2,\n",
    "    'list_features': str(list_variables), # only support strings\n",
    "    'model_type': model_type,\n",
    "    'start_train': start_train,\n",
    "    'end_train': end_train\n",
    "}\n",
    "\n",
    "# save parameters\n",
    "my_run.log_params(params_to_save)"
   ]
  },
  {
   "cell_type": "markdown",
   "id": "78d718f4-c8f0-42fb-bfce-30f82dd73669",
   "metadata": {},
   "source": [
    "#### 2.4 Save metrics"
   ]
  },
  {
   "cell_type": "code",
   "execution_count": 18,
   "id": "06f7574a-938d-4646-bf63-a4264bbadf5e",
   "metadata": {},
   "outputs": [],
   "source": [
    "# define metrics to save. In a dicctionary\n",
    "metrics_to_save = {\n",
    "    'rmse_train': rmse_train,\n",
    "    'rmse_test': rmse_test,\n",
    "    'r2_train': r2_train,\n",
    "    'r2_test': r2_test\n",
    "}\n",
    "\n",
    "# save metrics\n",
    "my_run.log_metrics(metrics_to_save)"
   ]
  },
  {
   "cell_type": "code",
   "execution_count": 19,
   "id": "9e686e7f-996c-43b4-96d2-aa8f8f1ee453",
   "metadata": {},
   "outputs": [],
   "source": [
    "#### obs: the metrics can be replaced any times that you want/need\n",
    "metrics_to_save = {\n",
    "    'rmse_train': rmse_train,\n",
    "    'rmse_test': rmse_test,\n",
    "    'r2_train': r2_train + 300,\n",
    "    'r2_test': r2_test + 300\n",
    "}\n",
    "\n",
    "# save metrics\n",
    "my_run.log_metrics(metrics_to_save)"
   ]
  },
  {
   "cell_type": "code",
   "execution_count": 20,
   "id": "121c1890-fcf9-4b88-a32a-f3d30c09ba6b",
   "metadata": {},
   "outputs": [],
   "source": [
    "### obs: in adition you can add new metrics without loss the previous values\n",
    "metrics_to_save = {\n",
    "    'loss_train': 0.0001,\n",
    "    'loss_test': 100\n",
    "}\n",
    "\n",
    "# save metrics\n",
    "my_run.log_metrics(metrics_to_save)"
   ]
  },
  {
   "cell_type": "markdown",
   "id": "ef478a3d-7d25-4b80-9799-5995ed034f16",
   "metadata": {},
   "source": [
    "OBS: with the parameters is the same history"
   ]
  },
  {
   "cell_type": "markdown",
   "id": "27ad6911-bb59-47b7-bc75-f18f6c14f934",
   "metadata": {},
   "source": [
    "#### 2.5 Save time series\n",
    "Save metrics during the training phase. For example, acc, loss, etc. in each step of training the NN.\r\n",
    "\r\n",
    "These metrics must be stored in a vertex tensorboard, which is too expensive ($300 per person. See reference links)."
   ]
  },
  {
   "cell_type": "code",
   "execution_count": 21,
   "id": "cc3da6fa-db46-41af-ab8a-d9840d84023a",
   "metadata": {},
   "outputs": [],
   "source": [
    "#my_run.log_time_series_metrics({'accuracy': 0.9}, step=10)"
   ]
  },
  {
   "cell_type": "code",
   "execution_count": null,
   "id": "899f2bcd-b6ef-4fbf-acfe-e6f1e044e55b",
   "metadata": {},
   "outputs": [],
   "source": []
  },
  {
   "cell_type": "markdown",
   "id": "639bef68-03b4-45e0-ba92-42e89f8833d5",
   "metadata": {},
   "source": [
    "#### 2.6 Save artifacts\n",
    "This is not posible to save artifacts without creating a tensorboard instance. Before the tensorboard instance was very expensive but since August 2023 tensorboard was cheaper"
   ]
  },
  {
   "cell_type": "code",
   "execution_count": null,
   "id": "3b21b9ab-c7ae-4020-bda2-b829f5e952c1",
   "metadata": {},
   "outputs": [],
   "source": []
  },
  {
   "cell_type": "code",
   "execution_count": null,
   "id": "558f09fe-3622-4ca8-97ef-f362cc78a50e",
   "metadata": {},
   "outputs": [],
   "source": []
  },
  {
   "cell_type": "markdown",
   "id": "1e863261-12b0-4a7e-8230-742d495a67f3",
   "metadata": {},
   "source": [
    "#### 2.7 End Run"
   ]
  },
  {
   "cell_type": "code",
   "execution_count": 28,
   "id": "5fb342c1-e030-457e-b0eb-4a3a752765d1",
   "metadata": {},
   "outputs": [],
   "source": [
    "# terminar\n",
    "my_run.end_run()"
   ]
  },
  {
   "cell_type": "code",
   "execution_count": null,
   "id": "2d5c6204-29c2-4317-bb35-e2f67f2b81ed",
   "metadata": {},
   "outputs": [],
   "source": []
  },
  {
   "cell_type": "code",
   "execution_count": null,
   "id": "f10d13de-9720-4686-95cf-5954ffdb7f28",
   "metadata": {},
   "outputs": [],
   "source": []
  },
  {
   "cell_type": "code",
   "execution_count": 29,
   "id": "b2573f27-9254-4c89-81f9-97dde80c3426",
   "metadata": {},
   "outputs": [],
   "source": [
    "# remove artifacts saved locally\n",
    "os.remove(model_name)\n",
    "os.remove(data_name)"
   ]
  },
  {
   "cell_type": "code",
   "execution_count": null,
   "id": "b4eda2cc-9430-4d42-9fac-18c52b4fd3d6",
   "metadata": {},
   "outputs": [],
   "source": []
  }
 ],
 "metadata": {
  "kernelspec": {
   "display_name": "Python 3 (ipykernel)",
   "language": "python",
   "name": "python3"
  },
  "language_info": {
   "codemirror_mode": {
    "name": "ipython",
    "version": 3
   },
   "file_extension": ".py",
   "mimetype": "text/x-python",
   "name": "python",
   "nbconvert_exporter": "python",
   "pygments_lexer": "ipython3",
   "version": "3.10.12"
  }
 },
 "nbformat": 4,
 "nbformat_minor": 5
}
