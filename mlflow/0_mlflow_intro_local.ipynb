{
 "cells": [
  {
   "cell_type": "markdown",
   "id": "d64668d6-9a03-4df3-abff-8884d6f45e55",
   "metadata": {},
   "source": [
    "## Intro mlflow\n",
    "Save locally experiments"
   ]
  },
  {
   "cell_type": "markdown",
   "id": "86d224b8",
   "metadata": {},
   "source": [
    "### 1) Install mlflow"
   ]
  },
  {
   "cell_type": "code",
   "execution_count": 5,
   "id": "5fcf0327",
   "metadata": {},
   "outputs": [],
   "source": [
    "#!pip install mlflow"
   ]
  },
  {
   "cell_type": "code",
   "execution_count": null,
   "id": "6c003a61",
   "metadata": {},
   "outputs": [],
   "source": []
  },
  {
   "attachments": {},
   "cell_type": "markdown",
   "id": "c74f1ab9",
   "metadata": {},
   "source": [
    "### 2) Initialize server of mlflow (only necessary when works with mlflow locally)\n",
    "To registry experiments in mlflow **only it is necessary runs the codes and internally the artifacts, parameters and metrics are saved locally**\n",
    "\n",
    "But, when you want **to see the results in the web page (User Interface), you must run the server.**\n",
    "\n",
    "**Instrucctions** to run locally server mlflow to see the UI:\n",
    "\n",
    "- Open a console. For example, Anaconda Prompt\n",
    "- Navegate in the console (cd) until the folder when the artifacts, parameters and metrics of the experiments in mlflow are saved\n",
    "- Run (by default where the folder \"mlruns\" are located)\n",
    "          `mlflow server`\n",
    "  \n",
    "- Run v2 (set the path to the mlflow folder):\n",
    "        `mlflow server --default-artifact-root <folder until the artifact>`\n",
    "\n",
    "- This command will run the server of mlflow in your local machine with the url: http://localhost:5000."
   ]
  },
  {
   "cell_type": "code",
   "execution_count": 6,
   "id": "acafab07",
   "metadata": {},
   "outputs": [],
   "source": [
    "#######  mlflow server --default-artifact-root <ruta para almacenar artefactos>\n",
    "\n",
    "\n",
    "#######  mlflow server"
   ]
  },
  {
   "cell_type": "code",
   "execution_count": null,
   "id": "b689b191",
   "metadata": {},
   "outputs": [],
   "source": []
  },
  {
   "cell_type": "markdown",
   "id": "b37552c9",
   "metadata": {},
   "source": [
    "### 3) Import mlflow"
   ]
  },
  {
   "cell_type": "code",
   "execution_count": 7,
   "id": "fab6693e",
   "metadata": {},
   "outputs": [
    {
     "name": "stdout",
     "output_type": "stream",
     "text": [
      "Name: mlflow\n",
      "Version: 2.3.0\n",
      "Summary: MLflow: A Platform for ML Development and Productionization\n",
      "Home-page: https://mlflow.org/\n",
      "Author: Databricks\n",
      "Author-email: \n",
      "License: Apache License 2.0\n",
      "Location: d:\\anaconda\\envs\\data-science-python-3-10\\lib\\site-packages\n",
      "Requires: alembic, click, cloudpickle, databricks-cli, docker, entrypoints, Flask, gitpython, importlib-metadata, Jinja2, markdown, matplotlib, numpy, packaging, pandas, protobuf, pyarrow, pytz, pyyaml, querystring-parser, requests, scikit-learn, scipy, sqlalchemy, sqlparse, waitress\n",
      "Required-by: \n"
     ]
    }
   ],
   "source": [
    "import mlflow\n",
    "!pip show mlflow"
   ]
  },
  {
   "cell_type": "code",
   "execution_count": 8,
   "id": "b0b2122d",
   "metadata": {},
   "outputs": [],
   "source": [
    "# import other packages\n",
    "\n",
    "import warnings\n",
    "warnings.filterwarnings(\"ignore\")\n",
    "\n",
    "import os\n",
    "import pandas as pd\n",
    "import numpy as np\n",
    "import pickle\n",
    "\n",
    "from sklearn.model_selection import train_test_split\n",
    "from sklearn.linear_model import LinearRegression\n",
    "from sklearn.ensemble import RandomForestRegressor\n",
    "from sklearn.metrics import mean_squared_error\n",
    "from sklearn.metrics import r2_score"
   ]
  },
  {
   "cell_type": "code",
   "execution_count": null,
   "id": "eb65f0d3",
   "metadata": {},
   "outputs": [],
   "source": []
  },
  {
   "cell_type": "markdown",
   "id": "5d161930",
   "metadata": {},
   "source": [
    "### 4) Connect to mlflow\n",
    "In this part you decide the server of mlflow that you will connect:\n",
    "- locally\n",
    "- cluster cloud\n",
    "- etc"
   ]
  },
  {
   "cell_type": "code",
   "execution_count": 9,
   "id": "5352502f",
   "metadata": {},
   "outputs": [],
   "source": [
    "#conect to mlflow\n",
    "path_local_artifacts_mlflow = 'mlruns'\n",
    "\n",
    "mlflow.set_tracking_uri(path_local_artifacts_mlflow)"
   ]
  },
  {
   "cell_type": "code",
   "execution_count": null,
   "id": "7728fd40",
   "metadata": {},
   "outputs": [],
   "source": []
  },
  {
   "cell_type": "markdown",
   "id": "04a3ac01",
   "metadata": {},
   "source": [
    "### 5) Set the experiment\n",
    "If the experiment doesn´t exist, it will be created automatically"
   ]
  },
  {
   "cell_type": "code",
   "execution_count": 10,
   "id": "009962fa",
   "metadata": {},
   "outputs": [
    {
     "data": {
      "text/plain": [
       "<Experiment: artifact_location='file:///D:/github-mi-repo/registry_experiments/mlflow/mlruns/422972033151819143', creation_time=1703448974509, experiment_id='422972033151819143', last_update_time=1703448974509, lifecycle_stage='active', name='test_local_mlflow', tags={}>"
      ]
     },
     "execution_count": 10,
     "metadata": {},
     "output_type": "execute_result"
    }
   ],
   "source": [
    "experiment_name = 'test_local_mlflow'\n",
    "mlflow.set_experiment(experiment_name)"
   ]
  },
  {
   "cell_type": "code",
   "execution_count": 11,
   "id": "6b8b3cc0",
   "metadata": {},
   "outputs": [
    {
     "data": {
      "text/plain": [
       "<Experiment: artifact_location='file:///D:/github-mi-repo/registry_experiments/mlflow/mlruns/422972033151819143', creation_time=1703448974509, experiment_id='422972033151819143', last_update_time=1703448974509, lifecycle_stage='active', name='test_local_mlflow', tags={}>"
      ]
     },
     "execution_count": 11,
     "metadata": {},
     "output_type": "execute_result"
    }
   ],
   "source": [
    "# validate the experiment is created/set\n",
    "mlflow.get_experiment_by_name(experiment_name)"
   ]
  },
  {
   "cell_type": "code",
   "execution_count": null,
   "id": "797e7e2c",
   "metadata": {},
   "outputs": [],
   "source": []
  },
  {
   "cell_type": "markdown",
   "id": "002a73ed",
   "metadata": {},
   "source": [
    "### 6) Generation of parameters, variables, artifacts to save\r\n",
    "- All these artifacts are generated during model training\r\n",
    "\r\n",
    "- In this example some are created to indicate them as examples"
   ]
  },
  {
   "cell_type": "markdown",
   "id": "f4be0834",
   "metadata": {},
   "source": [
    "### 6.0 Generate data and train a model"
   ]
  },
  {
   "cell_type": "code",
   "execution_count": 12,
   "id": "1b5af491",
   "metadata": {},
   "outputs": [
    {
     "name": "stdout",
     "output_type": "stream",
     "text": [
      "TRAIN\n",
      "X_train (800, 5)\n",
      "y_train (800,)\n",
      "\n",
      "TEST\n",
      "X_test (200, 5)\n",
      "y_test (200,)\n"
     ]
    }
   ],
   "source": [
    "#### generarate data ###\n",
    "\n",
    "\n",
    "# parameters\n",
    "len_data = 1000\n",
    "number_columns = 6\n",
    "data = []\n",
    "list_variables = [\"240FY050.RO02\" , \"SGM-PI9514\", \"SSTRIPPING015\", \"SGM-PI9516\" , \"SGM-PI9512\", \"target\"]\n",
    "\n",
    "\n",
    "# seed - replicability\n",
    "np.random.seed(42)\n",
    "\n",
    "\n",
    "# generate random data\n",
    "for column in range(number_columns):\n",
    "    random_choise = np.random.choice(10) + 1 # amplitud\n",
    "    data_column = np.random.rand(len_data)\n",
    "    data_column = random_choise * data_column\n",
    "    data.append(data_column)\n",
    "    \n",
    "\n",
    "# transform into a dataframe\n",
    "data = pd.DataFrame(data).T\n",
    "data.columns = list_variables\n",
    "\n",
    "\n",
    "# divide into train and test\n",
    "features = list(set(list_variables) - set(['target']))\n",
    "X_train, X_test, y_train, y_test = train_test_split(data[features], data['target'], test_size = 0.2, random_state=42)\n",
    "\n",
    "print('TRAIN')\n",
    "print('X_train', X_train.shape)\n",
    "print('y_train', y_train.shape)\n",
    "\n",
    "print('\\nTEST')\n",
    "print('X_test', X_test.shape)\n",
    "print('y_test', y_test.shape)"
   ]
  },
  {
   "cell_type": "code",
   "execution_count": 13,
   "id": "29dce24c",
   "metadata": {},
   "outputs": [],
   "source": [
    "#### train model ####\n",
    "\n",
    "#model = LinearRegression()\n",
    "model = RandomForestRegressor(random_state = 42)\n",
    "model.fit(X_train, y_train)\n",
    "\n",
    "\n",
    "\n",
    "#### prediction and evaluation ####\n",
    "\n",
    "### RMSE\n",
    "rmse_train = mean_squared_error(y_train, \n",
    "                                model.predict(X_train),\n",
    "                                squared = False)\n",
    "\n",
    "rmse_test = mean_squared_error(y_test, \n",
    "                               model.predict(X_test),\n",
    "                               squared = False)\n",
    "\n",
    "\n",
    "### R2\n",
    "r2_score\n",
    "\n",
    "\n",
    "r2_train = r2_score(y_train,\n",
    "                   model.predict(X_train))\n",
    "\n",
    "r2_test = r2_score(y_test,\n",
    "                   model.predict(X_test))"
   ]
  },
  {
   "cell_type": "code",
   "execution_count": null,
   "id": "5919c1b4",
   "metadata": {},
   "outputs": [],
   "source": []
  },
  {
   "cell_type": "markdown",
   "id": "76950993",
   "metadata": {},
   "source": [
    "### 6.1) Generate parameters to save in mlflow"
   ]
  },
  {
   "cell_type": "code",
   "execution_count": 14,
   "id": "3c470d28",
   "metadata": {},
   "outputs": [
    {
     "name": "stdout",
     "output_type": "stream",
     "text": [
      "listado de tags ['240FY050.RO02', 'SGM-PI9514', 'SSTRIPPING015', 'SGM-PI9516', 'SGM-PI9512', 'target']\n"
     ]
    }
   ],
   "source": [
    "# print de listado de tags\n",
    "print('listado de tags', list_variables)"
   ]
  },
  {
   "cell_type": "code",
   "execution_count": 15,
   "id": "7d1906ef",
   "metadata": {},
   "outputs": [
    {
     "data": {
      "text/plain": [
       "'RF'"
      ]
     },
     "execution_count": 15,
     "metadata": {},
     "output_type": "execute_result"
    }
   ],
   "source": [
    "# tipo modelo\n",
    "model_type = \"RF\"\n",
    "model_type"
   ]
  },
  {
   "cell_type": "code",
   "execution_count": 16,
   "id": "68822c71",
   "metadata": {},
   "outputs": [],
   "source": [
    "# fechas de los datos\n",
    "start_train = \"2020-01-01\"\n",
    "end_train = \"2022-12-01\""
   ]
  },
  {
   "cell_type": "markdown",
   "id": "37a54a85",
   "metadata": {},
   "source": [
    "### 6.2) Generate metrics to save in mlflow"
   ]
  },
  {
   "cell_type": "code",
   "execution_count": 13,
   "id": "337e94d0",
   "metadata": {},
   "outputs": [
    {
     "name": "stdout",
     "output_type": "stream",
     "text": [
      "rmse_train:  0.5805765256037049\n",
      "rmse_test:  1.4541631589134607\n",
      "r2_train:  0.8383333507540055\n",
      "r2_test:  0.0005404574429910269\n"
     ]
    }
   ],
   "source": [
    "# print de las métricas\n",
    "print('rmse_train: ', rmse_train)\n",
    "print('rmse_test: ', rmse_test)\n",
    "print('r2_train: ', r2_train)\n",
    "print('r2_test: ', r2_test)"
   ]
  },
  {
   "cell_type": "markdown",
   "id": "457c3a58",
   "metadata": {},
   "source": [
    "### 6.3) Generate artifacts to save in mlflow\n",
    "- models\n",
    "- data\n",
    "- graphs\n",
    "- etc"
   ]
  },
  {
   "cell_type": "code",
   "execution_count": 17,
   "id": "92569df9",
   "metadata": {},
   "outputs": [],
   "source": [
    "# generar artefacto pickle con el modelo y borrar del local\n",
    "model_name = 'model.pkl'\n",
    "with open(model_name, 'wb') as file:\n",
    "    pickle.dump(model, file)"
   ]
  },
  {
   "cell_type": "code",
   "execution_count": 18,
   "id": "05a83676",
   "metadata": {},
   "outputs": [],
   "source": [
    "# generar artefacto data csv y borrar del local\n",
    "data_name = 'data.csv'\n",
    "data.to_csv(data_name)"
   ]
  },
  {
   "cell_type": "code",
   "execution_count": null,
   "id": "fb87aaa4",
   "metadata": {},
   "outputs": [],
   "source": []
  },
  {
   "cell_type": "code",
   "execution_count": null,
   "id": "df063f66",
   "metadata": {},
   "outputs": [],
   "source": []
  },
  {
   "cell_type": "markdown",
   "id": "6b53b19b",
   "metadata": {},
   "source": [
    "### 7. Save the results of the run\n",
    "- You have an \"experiment\" which is the bigger unit and it is conformed by smaller units \"runs\". When you train a model (which you could call experiment in your traditional languaje) you are training a model and save its results into a \"run\"."
   ]
  },
  {
   "cell_type": "code",
   "execution_count": 24,
   "id": "d976f731",
   "metadata": {},
   "outputs": [],
   "source": [
    "#initialize run\n",
    "run_name = model_type\n",
    "mlflow.start_run(run_name = run_name)\n",
    "run = mlflow.active_run()"
   ]
  },
  {
   "cell_type": "code",
   "execution_count": 20,
   "id": "01ea50f8",
   "metadata": {},
   "outputs": [
    {
     "data": {
      "text/plain": [
       "'2022-12-01'"
      ]
     },
     "execution_count": 20,
     "metadata": {},
     "output_type": "execute_result"
    }
   ],
   "source": [
    "# save parametes\n",
    "mlflow.log_param(\"Tags\", str(list_variables))\n",
    "mlflow.log_param(\"Modelo\", model_type)\n",
    "mlflow.log_param(\"Inicio Train\", start_train)\n",
    "mlflow.log_param(\"Fin Train\", end_train)"
   ]
  },
  {
   "cell_type": "code",
   "execution_count": 21,
   "id": "aa197671",
   "metadata": {},
   "outputs": [],
   "source": [
    "# save metrics\n",
    "mlflow.log_metric(\"RMSE_train\", rmse_train)\n",
    "mlflow.log_metric(\"RMSE_test\", rmse_test)\n",
    "mlflow.log_metric(\"R2_train\", r2_train)\n",
    "mlflow.log_metric(\"R2_test\", r2_test)"
   ]
  },
  {
   "cell_type": "code",
   "execution_count": 22,
   "id": "ae0db35f",
   "metadata": {},
   "outputs": [],
   "source": [
    "# save artifacts. The easyiest way is save the artifact locally and then upload into mlflow\n",
    "\n",
    "# save model\n",
    "mlflow.log_artifact(model_name)\n",
    "os.remove(model_name)\n",
    "\n",
    "# save data\n",
    "mlflow.log_artifact(data_name)\n",
    "os.remove(data_name)"
   ]
  },
  {
   "cell_type": "code",
   "execution_count": null,
   "id": "a94e3353",
   "metadata": {},
   "outputs": [],
   "source": []
  },
  {
   "cell_type": "markdown",
   "id": "1f95855f",
   "metadata": {},
   "source": [
    "### 8. Finish RUN"
   ]
  },
  {
   "cell_type": "code",
   "execution_count": 23,
   "id": "5e447d55",
   "metadata": {},
   "outputs": [],
   "source": [
    "# terminar run\n",
    "mlflow.end_run()"
   ]
  },
  {
   "cell_type": "code",
   "execution_count": null,
   "id": "449be552",
   "metadata": {},
   "outputs": [],
   "source": []
  },
  {
   "cell_type": "markdown",
   "id": "61bb42ba",
   "metadata": {},
   "source": [
    "### 9. EXTRAS\r\n",
    "Mlflow allows:\r\n",
    "\r\n",
    "- Register the artifact of the generated model (registering the package used to train the model and its requirements) and then register the experimentation run in the \"models\" menu and with this deploy it using mlflow services (mlflow running in a cloud cluster)\r\n",
    "\r\n",
    "- Of all the RUNs choose the one with the best metric"
   ]
  },
  {
   "cell_type": "code",
   "execution_count": null,
   "id": "11ac232c",
   "metadata": {},
   "outputs": [],
   "source": []
  },
  {
   "cell_type": "code",
   "execution_count": null,
   "id": "3b748fd9-50bd-4645-a346-ad5ca6fc8ae9",
   "metadata": {},
   "outputs": [],
   "source": []
  },
  {
   "cell_type": "code",
   "execution_count": null,
   "id": "49f0b073-fb65-468c-bbff-c5a2a4e109cc",
   "metadata": {},
   "outputs": [],
   "source": []
  }
 ],
 "metadata": {
  "kernelspec": {
   "display_name": "Python 3 (ipykernel)",
   "language": "python",
   "name": "python3"
  },
  "language_info": {
   "codemirror_mode": {
    "name": "ipython",
    "version": 3
   },
   "file_extension": ".py",
   "mimetype": "text/x-python",
   "name": "python",
   "nbconvert_exporter": "python",
   "pygments_lexer": "ipython3",
   "version": "3.10.12"
  }
 },
 "nbformat": 4,
 "nbformat_minor": 5
}
